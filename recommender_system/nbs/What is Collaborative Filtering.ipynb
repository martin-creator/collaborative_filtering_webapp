{
 "cells": [
  {
   "cell_type": "code",
   "execution_count": 19,
   "id": "4e4dd353",
   "metadata": {},
   "outputs": [],
   "source": [
    "import setup_django\n",
    "setup_django.init()"
   ]
  },
  {
   "cell_type": "code",
   "execution_count": 20,
   "id": "c07726ac",
   "metadata": {},
   "outputs": [],
   "source": [
    "import numpy as np\n",
    "import pandas as pd\n",
    "from django.contrib.auth import get_user_model\n",
    "from django.db.models import F, Count, Sum, IntegerField\n",
    "from movies.models import Movie\n",
    "from ratings.models import Rating\n",
    "import random\n",
    "\n",
    "User = get_user_model()"
   ]
  },
  {
   "cell_type": "code",
   "execution_count": 21,
   "id": "d60a2fb3",
   "metadata": {},
   "outputs": [
    {
     "data": {
      "text/plain": [
       "<Movie: The Matrix (1999)>"
      ]
     },
     "execution_count": 21,
     "metadata": {},
     "output_type": "execute_result"
    }
   ],
   "source": [
    "rating_obj = Rating.objects.filter(user__username='cfe', value__gte=5).first()\n",
    "rating_obj.content_object"
   ]
  },
  {
   "cell_type": "code",
   "execution_count": 4,
   "id": "a68093fd",
   "metadata": {},
   "outputs": [],
   "source": [
    "movie_id = rating_obj.content_object.id\n",
    "value = rating_obj.value\n",
    "user_id = rating_obj.user_id"
   ]
  },
  {
   "cell_type": "code",
   "execution_count": 5,
   "id": "019ba5b5",
   "metadata": {},
   "outputs": [
    {
     "name": "stdout",
     "output_type": "stream",
     "text": [
      "Movie 2571 was rated 5 by 1\n"
     ]
    }
   ],
   "source": [
    "print(f\"Movie {movie_id} was rated {value} by {user_id}\")"
   ]
  },
  {
   "cell_type": "code",
   "execution_count": 6,
   "id": "7e445055",
   "metadata": {},
   "outputs": [],
   "source": [
    "other_user_ids = Rating.objects.filter(\n",
    "        object_id=rating_obj.object_id, \n",
    "        content_type=rating_obj.content_type, \n",
    "        value__gte=rating_obj.value\n",
    ").exclude(user=rating_obj.user).values_list('user_id', flat=True)\n",
    "\n",
    "\n",
    "highly_rated = Rating.objects.filter(user_id__in=other_user_ids, value__gte=4)"
   ]
  },
  {
   "cell_type": "code",
   "execution_count": 7,
   "id": "869d518c",
   "metadata": {},
   "outputs": [],
   "source": [
    "rec_users = []\n",
    "rec_movies = []\n",
    "for rating_obj in highly_rated:\n",
    "    if rating_obj.user not in rec_users:\n",
    "        rec_users.append(rating_obj.user)\n",
    "    object_id = rating_obj.object_id\n",
    "    if object_id not in rec_movies:\n",
    "        rec_movies.append(object_id)"
   ]
  },
  {
   "cell_type": "code",
   "execution_count": 8,
   "id": "79c8f442",
   "metadata": {},
   "outputs": [
    {
     "name": "stdout",
     "output_type": "stream",
     "text": [
      "142 3761\n"
     ]
    }
   ],
   "source": [
    "print(len(rec_users), len(set(rec_movies)))"
   ]
  },
  {
   "cell_type": "code",
   "execution_count": 9,
   "id": "4b712232",
   "metadata": {},
   "outputs": [],
   "source": [
    "import numpy as np"
   ]
  },
  {
   "cell_type": "code",
   "execution_count": 10,
   "id": "557c6998",
   "metadata": {},
   "outputs": [
    {
     "name": "stdout",
     "output_type": "stream",
     "text": [
      "User has 3 primary preferences\n",
      "These movies have 5 unique features.\n"
     ]
    }
   ],
   "source": [
    "# Write a list of 2 movies attributes\n",
    "movie_1 = ['sci-fi', 'comedy', 'Stars latest action movie star']\n",
    "movie_2 = ['historical fiction', 'drama', 'Stars latest action movie star']\n",
    "\n",
    "# Write a list of a User's preferences\n",
    "user_a = ['comedy', 'sci-fi', 'Stars latest action movie star']\n",
    "print(f\"User has {len(user_a)} primary preferences\")\n",
    "\n",
    "# Total number of potential features\n",
    "num_unique_features = len(set(movie_1 + movie_2))\n",
    "print(f\"These movies have {num_unique_features} unique features.\")"
   ]
  },
  {
   "cell_type": "markdown",
   "id": "e4a589f0",
   "metadata": {},
   "source": [
    "Convert the user preferences list into a numerical score between -1 and 1"
   ]
  },
  {
   "cell_type": "code",
   "execution_count": 11,
   "id": "bb69c385",
   "metadata": {},
   "outputs": [],
   "source": [
    "my_preferences = np.array([.98, .85, .75])"
   ]
  },
  {
   "cell_type": "markdown",
   "id": "ddefa05b",
   "metadata": {},
   "source": [
    "Convert movie attributes into a numerical score between -1 and 1 based on the following 3 attributes:\n",
    "\n",
    "- Sci-Fi\n",
    "- Comedy\n",
    "- Stars latest action hero"
   ]
  },
  {
   "cell_type": "code",
   "execution_count": 12,
   "id": "33f0b9ff",
   "metadata": {},
   "outputs": [],
   "source": [
    "movie_attribute_scores = np.array([.96, .99, .92]) \n",
    "\n",
    "movie_2_attribute_scores = np.array([-.93, -.45, .5])\n"
   ]
  },
  {
   "cell_type": "markdown",
   "id": "e4fd0b6e",
   "metadata": {},
   "source": [
    "Predict User's likelihood of enjoying either movie using Matrix multiplication."
   ]
  },
  {
   "cell_type": "code",
   "execution_count": 13,
   "id": "ad941f89",
   "metadata": {},
   "outputs": [
    {
     "data": {
      "text/plain": [
       "2.4723"
      ]
     },
     "execution_count": 13,
     "metadata": {},
     "output_type": "execute_result"
    }
   ],
   "source": [
    "(my_preferences * movie_attribute_scores).sum() "
   ]
  },
  {
   "cell_type": "code",
   "execution_count": 14,
   "id": "f00c6534",
   "metadata": {
    "scrolled": true
   },
   "outputs": [
    {
     "data": {
      "text/plain": [
       "-0.9189"
      ]
     },
     "execution_count": 14,
     "metadata": {},
     "output_type": "execute_result"
    }
   ],
   "source": [
    "(my_preferences * movie_2_attribute_scores).sum()"
   ]
  },
  {
   "cell_type": "code",
   "execution_count": 15,
   "id": "40ba8e7f",
   "metadata": {},
   "outputs": [
    {
     "name": "stdout",
     "output_type": "stream",
     "text": [
      "3 -3\n"
     ]
    }
   ],
   "source": [
    "max_score = (np.array([1,1,1]) * np.array([1,1,1])).sum()\n",
    "min_score = (np.array([1,1,1]) * np.array([-1,-1,-1])).sum()\n",
    "print(max_score, min_score)"
   ]
  },
  {
   "cell_type": "markdown",
   "id": "949f5042",
   "metadata": {},
   "source": [
    "This notebook was inspired from Chapter 8 In [Deep Learning for Coders](https://amzn.to/3Bs48Sz) by Jeremy Howard & Sylvain Gugger"
   ]
  },
  {
   "cell_type": "code",
   "execution_count": 22,
   "id": "e57536cd",
   "metadata": {},
   "outputs": [],
   "source": [
    "ids = Movie.objects.all().popular()[:15]\n",
    "most_active_users = Rating.objects.all().annotate(\n",
    "    user_count=Count(\"user\")\n",
    ").order_by('-user_count').values_list('user_id')[:5_000]\n",
    "\n",
    "ratings_qs =  Rating.objects.filter(\n",
    "    object_id__in=ids, \n",
    "    user_id__in=most_active_users, \n",
    "    active=True, value__gte=0\n",
    ").annotate(movie=F(\"object_id\")).values('user', 'value', 'movie')\n",
    "\n",
    "df = pd.DataFrame(ratings_qs)"
   ]
  },
  {
   "cell_type": "code",
   "execution_count": 23,
   "id": "8b386ef6",
   "metadata": {},
   "outputs": [
    {
     "data": {
      "text/html": [
       "<div>\n",
       "<style scoped>\n",
       "    .dataframe tbody tr th:only-of-type {\n",
       "        vertical-align: middle;\n",
       "    }\n",
       "\n",
       "    .dataframe tbody tr th {\n",
       "        vertical-align: top;\n",
       "    }\n",
       "\n",
       "    .dataframe thead th {\n",
       "        text-align: right;\n",
       "    }\n",
       "</style>\n",
       "<table border=\"1\" class=\"dataframe\">\n",
       "  <thead>\n",
       "    <tr style=\"text-align: right;\">\n",
       "      <th>movie</th>\n",
       "      <th>1</th>\n",
       "      <th>110</th>\n",
       "      <th>260</th>\n",
       "      <th>296</th>\n",
       "      <th>318</th>\n",
       "      <th>356</th>\n",
       "      <th>527</th>\n",
       "      <th>589</th>\n",
       "      <th>858</th>\n",
       "      <th>1196</th>\n",
       "      <th>1198</th>\n",
       "      <th>1210</th>\n",
       "      <th>1270</th>\n",
       "      <th>2571</th>\n",
       "      <th>2858</th>\n",
       "    </tr>\n",
       "    <tr>\n",
       "      <th>user</th>\n",
       "      <th></th>\n",
       "      <th></th>\n",
       "      <th></th>\n",
       "      <th></th>\n",
       "      <th></th>\n",
       "      <th></th>\n",
       "      <th></th>\n",
       "      <th></th>\n",
       "      <th></th>\n",
       "      <th></th>\n",
       "      <th></th>\n",
       "      <th></th>\n",
       "      <th></th>\n",
       "      <th></th>\n",
       "      <th></th>\n",
       "    </tr>\n",
       "  </thead>\n",
       "  <tbody>\n",
       "    <tr>\n",
       "      <th>1</th>\n",
       "      <td>5.0</td>\n",
       "      <td></td>\n",
       "      <td></td>\n",
       "      <td>4.0</td>\n",
       "      <td>1.0</td>\n",
       "      <td>5.0</td>\n",
       "      <td></td>\n",
       "      <td>5.0</td>\n",
       "      <td></td>\n",
       "      <td>5.0</td>\n",
       "      <td>4.0</td>\n",
       "      <td>5.0</td>\n",
       "      <td>5.0</td>\n",
       "      <td>5.0</td>\n",
       "      <td></td>\n",
       "    </tr>\n",
       "    <tr>\n",
       "      <th>2</th>\n",
       "      <td></td>\n",
       "      <td>4.0</td>\n",
       "      <td></td>\n",
       "      <td>4.0</td>\n",
       "      <td></td>\n",
       "      <td>3.0</td>\n",
       "      <td>4.0</td>\n",
       "      <td>5.0</td>\n",
       "      <td></td>\n",
       "      <td></td>\n",
       "      <td></td>\n",
       "      <td></td>\n",
       "      <td></td>\n",
       "      <td></td>\n",
       "      <td></td>\n",
       "    </tr>\n",
       "    <tr>\n",
       "      <th>3</th>\n",
       "      <td></td>\n",
       "      <td>4.0</td>\n",
       "      <td></td>\n",
       "      <td>5.0</td>\n",
       "      <td>5.0</td>\n",
       "      <td>5.0</td>\n",
       "      <td>3.0</td>\n",
       "      <td></td>\n",
       "      <td></td>\n",
       "      <td></td>\n",
       "      <td></td>\n",
       "      <td>3.0</td>\n",
       "      <td></td>\n",
       "      <td></td>\n",
       "      <td>4.0</td>\n",
       "    </tr>\n",
       "    <tr>\n",
       "      <th>4</th>\n",
       "      <td></td>\n",
       "      <td></td>\n",
       "      <td>5.0</td>\n",
       "      <td>5.0</td>\n",
       "      <td></td>\n",
       "      <td>5.0</td>\n",
       "      <td></td>\n",
       "      <td>5.0</td>\n",
       "      <td>5.0</td>\n",
       "      <td>5.0</td>\n",
       "      <td>5.0</td>\n",
       "      <td>5.0</td>\n",
       "      <td>5.0</td>\n",
       "      <td></td>\n",
       "      <td></td>\n",
       "    </tr>\n",
       "    <tr>\n",
       "      <th>5</th>\n",
       "      <td></td>\n",
       "      <td></td>\n",
       "      <td></td>\n",
       "      <td></td>\n",
       "      <td></td>\n",
       "      <td>4.0</td>\n",
       "      <td></td>\n",
       "      <td></td>\n",
       "      <td>3.0</td>\n",
       "      <td></td>\n",
       "      <td></td>\n",
       "      <td></td>\n",
       "      <td></td>\n",
       "      <td></td>\n",
       "      <td></td>\n",
       "    </tr>\n",
       "    <tr>\n",
       "      <th>6</th>\n",
       "      <td></td>\n",
       "      <td></td>\n",
       "      <td></td>\n",
       "      <td></td>\n",
       "      <td></td>\n",
       "      <td></td>\n",
       "      <td></td>\n",
       "      <td></td>\n",
       "      <td></td>\n",
       "      <td></td>\n",
       "      <td></td>\n",
       "      <td></td>\n",
       "      <td></td>\n",
       "      <td>1.0</td>\n",
       "      <td></td>\n",
       "    </tr>\n",
       "    <tr>\n",
       "      <th>7</th>\n",
       "      <td>3.0</td>\n",
       "      <td>5.0</td>\n",
       "      <td>5.0</td>\n",
       "      <td></td>\n",
       "      <td>5.0</td>\n",
       "      <td>3.0</td>\n",
       "      <td></td>\n",
       "      <td>3.0</td>\n",
       "      <td></td>\n",
       "      <td>5.0</td>\n",
       "      <td>5.0</td>\n",
       "      <td>5.0</td>\n",
       "      <td>3.0</td>\n",
       "      <td></td>\n",
       "      <td></td>\n",
       "    </tr>\n",
       "    <tr>\n",
       "      <th>8</th>\n",
       "      <td></td>\n",
       "      <td>4.0</td>\n",
       "      <td>4.0</td>\n",
       "      <td>4.0</td>\n",
       "      <td>5.0</td>\n",
       "      <td>4.0</td>\n",
       "      <td>5.0</td>\n",
       "      <td>4.0</td>\n",
       "      <td>5.0</td>\n",
       "      <td>4.0</td>\n",
       "      <td>4.0</td>\n",
       "      <td>4.0</td>\n",
       "      <td>4.0</td>\n",
       "      <td>5.0</td>\n",
       "      <td>5.0</td>\n",
       "    </tr>\n",
       "    <tr>\n",
       "      <th>9</th>\n",
       "      <td>4.0</td>\n",
       "      <td></td>\n",
       "      <td></td>\n",
       "      <td></td>\n",
       "      <td>4.0</td>\n",
       "      <td></td>\n",
       "      <td>5.0</td>\n",
       "      <td></td>\n",
       "      <td></td>\n",
       "      <td></td>\n",
       "      <td></td>\n",
       "      <td></td>\n",
       "      <td></td>\n",
       "      <td>5.0</td>\n",
       "      <td></td>\n",
       "    </tr>\n",
       "    <tr>\n",
       "      <th>10</th>\n",
       "      <td></td>\n",
       "      <td></td>\n",
       "      <td></td>\n",
       "      <td></td>\n",
       "      <td>4.0</td>\n",
       "      <td></td>\n",
       "      <td></td>\n",
       "      <td></td>\n",
       "      <td></td>\n",
       "      <td>4.0</td>\n",
       "      <td>4.0</td>\n",
       "      <td>4.0</td>\n",
       "      <td></td>\n",
       "      <td>5.0</td>\n",
       "      <td></td>\n",
       "    </tr>\n",
       "    <tr>\n",
       "      <th>11</th>\n",
       "      <td></td>\n",
       "      <td></td>\n",
       "      <td></td>\n",
       "      <td>5.0</td>\n",
       "      <td></td>\n",
       "      <td></td>\n",
       "      <td></td>\n",
       "      <td></td>\n",
       "      <td></td>\n",
       "      <td></td>\n",
       "      <td></td>\n",
       "      <td></td>\n",
       "      <td></td>\n",
       "      <td></td>\n",
       "      <td></td>\n",
       "    </tr>\n",
       "    <tr>\n",
       "      <th>13</th>\n",
       "      <td>5.0</td>\n",
       "      <td>4.0</td>\n",
       "      <td></td>\n",
       "      <td>4.0</td>\n",
       "      <td>5.0</td>\n",
       "      <td>5.0</td>\n",
       "      <td>4.0</td>\n",
       "      <td></td>\n",
       "      <td></td>\n",
       "      <td></td>\n",
       "      <td></td>\n",
       "      <td></td>\n",
       "      <td></td>\n",
       "      <td>3.0</td>\n",
       "      <td></td>\n",
       "    </tr>\n",
       "    <tr>\n",
       "      <th>14</th>\n",
       "      <td></td>\n",
       "      <td></td>\n",
       "      <td></td>\n",
       "      <td></td>\n",
       "      <td></td>\n",
       "      <td></td>\n",
       "      <td></td>\n",
       "      <td></td>\n",
       "      <td></td>\n",
       "      <td>4.0</td>\n",
       "      <td></td>\n",
       "      <td></td>\n",
       "      <td></td>\n",
       "      <td></td>\n",
       "      <td></td>\n",
       "    </tr>\n",
       "    <tr>\n",
       "      <th>15</th>\n",
       "      <td>2.0</td>\n",
       "      <td>3.0</td>\n",
       "      <td>5.0</td>\n",
       "      <td>5.0</td>\n",
       "      <td>2.0</td>\n",
       "      <td>1.0</td>\n",
       "      <td>4.0</td>\n",
       "      <td>4.0</td>\n",
       "      <td>5.0</td>\n",
       "      <td>5.0</td>\n",
       "      <td>4.0</td>\n",
       "      <td>5.0</td>\n",
       "      <td>5.0</td>\n",
       "      <td>5.0</td>\n",
       "      <td>4.0</td>\n",
       "    </tr>\n",
       "    <tr>\n",
       "      <th>16</th>\n",
       "      <td></td>\n",
       "      <td></td>\n",
       "      <td></td>\n",
       "      <td></td>\n",
       "      <td>4.0</td>\n",
       "      <td></td>\n",
       "      <td>4.0</td>\n",
       "      <td></td>\n",
       "      <td></td>\n",
       "      <td></td>\n",
       "      <td></td>\n",
       "      <td></td>\n",
       "      <td></td>\n",
       "      <td></td>\n",
       "      <td>4.0</td>\n",
       "    </tr>\n",
       "  </tbody>\n",
       "</table>\n",
       "</div>"
      ],
      "text/plain": [
       "movie 1    110  260  296  318  356  527  589  858  1196 1198 1210 1270 2571  \\\n",
       "user                                                                          \n",
       "1      5.0            4.0  1.0  5.0       5.0       5.0  4.0  5.0  5.0  5.0   \n",
       "2           4.0       4.0       3.0  4.0  5.0                                 \n",
       "3           4.0       5.0  5.0  5.0  3.0                      3.0             \n",
       "4                5.0  5.0       5.0       5.0  5.0  5.0  5.0  5.0  5.0        \n",
       "5                               4.0            3.0                            \n",
       "6                                                                       1.0   \n",
       "7      3.0  5.0  5.0       5.0  3.0       3.0       5.0  5.0  5.0  3.0        \n",
       "8           4.0  4.0  4.0  5.0  4.0  5.0  4.0  5.0  4.0  4.0  4.0  4.0  5.0   \n",
       "9      4.0                 4.0       5.0                                5.0   \n",
       "10                         4.0                      4.0  4.0  4.0       5.0   \n",
       "11                    5.0                                                     \n",
       "13     5.0  4.0       4.0  5.0  5.0  4.0                                3.0   \n",
       "14                                                  4.0                       \n",
       "15     2.0  3.0  5.0  5.0  2.0  1.0  4.0  4.0  5.0  5.0  4.0  5.0  5.0  5.0   \n",
       "16                         4.0       4.0                                      \n",
       "\n",
       "movie 2858  \n",
       "user        \n",
       "1           \n",
       "2           \n",
       "3      4.0  \n",
       "4           \n",
       "5           \n",
       "6           \n",
       "7           \n",
       "8      5.0  \n",
       "9           \n",
       "10          \n",
       "11          \n",
       "13          \n",
       "14          \n",
       "15     4.0  \n",
       "16     4.0  "
      ]
     },
     "execution_count": 23,
     "metadata": {},
     "output_type": "execute_result"
    }
   ],
   "source": [
    "df.pivot_table(index='user', columns=['movie'], values='value', fill_value='')[:15]"
   ]
  },
  {
   "cell_type": "code",
   "execution_count": 18,
   "id": "1bad33ca",
   "metadata": {},
   "outputs": [
    {
     "data": {
      "text/plain": [
       "5"
      ]
     },
     "execution_count": 18,
     "metadata": {},
     "output_type": "execute_result"
    }
   ],
   "source": [
    "movie_1 = np.array([1, 1, 1, 1, 1])\n",
    "user_1 = np.array([1, 1, 1, 1, 1])\n",
    "(user_1 * movie_1).sum()"
   ]
  },
  {
   "cell_type": "markdown",
   "id": "d6cc58b0",
   "metadata": {},
   "source": [
    "```python\n",
    "movie_1_features = np.array([\"x\", \"y\", \"z\", \"xx\", \"yy\"])\n",
    "user_1_preferences = np.array([\"x\", \"y\", \"z\", \"xx\", \"yy\"])\n",
    "assert (user_1_preferences * movie_1_features).sum() == 5\n",
    "```\n",
    "\n",
    "These are called latent features. They are hidden and it's what the machine learning model will try and find for us."
   ]
  },
  {
   "cell_type": "code",
   "execution_count": null,
   "id": "3d494367",
   "metadata": {},
   "outputs": [],
   "source": []
  },
  {
   "cell_type": "code",
   "execution_count": null,
   "id": "6e2d47ce",
   "metadata": {},
   "outputs": [],
   "source": []
  },
  {
   "cell_type": "code",
   "execution_count": null,
   "id": "71f9835a",
   "metadata": {},
   "outputs": [],
   "source": []
  }
 ],
 "metadata": {
  "kernelspec": {
   "display_name": "Python 3 (ipykernel)",
   "language": "python",
   "name": "python3"
  },
  "language_info": {
   "codemirror_mode": {
    "name": "ipython",
    "version": 3
   },
   "file_extension": ".py",
   "mimetype": "text/x-python",
   "name": "python",
   "nbconvert_exporter": "python",
   "pygments_lexer": "ipython3",
   "version": "3.8.10"
  }
 },
 "nbformat": 4,
 "nbformat_minor": 5
}
